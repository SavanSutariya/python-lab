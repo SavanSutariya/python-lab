{
 "cells": [
  {
   "cell_type": "markdown",
   "id": "61df7b6f",
   "metadata": {},
   "source": [
    "# Practical 1\n",
    "## Elements of python programming\n",
    "#### MA057"
   ]
  },
  {
   "cell_type": "markdown",
   "id": "2bbfb396",
   "metadata": {},
   "source": [
    "<b>1.</b> Input user's fullname, age, complete address, phone number on screen. Print them in proper way on screen."
   ]
  },
  {
   "cell_type": "code",
   "execution_count": 1,
   "id": "0437f88b",
   "metadata": {},
   "outputs": [
    {
     "name": "stdout",
     "output_type": "stream",
     "text": [
      "Enter your full name: Sutariya Savankumar\n",
      "Enter your age: 21\n",
      "Enter your complete address: 505, Jashoda Appartment\n",
      "Enter your phone number: 1231231231\n",
      "Full Name: Sutariya Savankumar\n",
      "Age: 21\n",
      "Address: 505, Jashoda Appartment\n",
      "Phone Number: 1231231231\n"
     ]
    }
   ],
   "source": [
    "full_name = input(\"Enter your full name: \")\n",
    "age = input(\"Enter your age: \")\n",
    "address = input(\"Enter your complete address: \")\n",
    "phone_number = input(\"Enter your phone number: \")\n",
    "print(\"Full Name:\", full_name)\n",
    "print(\"Age:\", age)\n",
    "print(\"Address:\", address)\n",
    "print(\"Phone Number:\", phone_number)"
   ]
  },
  {
   "cell_type": "markdown",
   "id": "66aa68d7",
   "metadata": {},
   "source": [
    "<b>2.</b> Input two integer operands from user. Print their summation, difference, multiplication and division."
   ]
  },
  {
   "cell_type": "code",
   "execution_count": 1,
   "id": "d7aa7507",
   "metadata": {},
   "outputs": [
    {
     "name": "stdout",
     "output_type": "stream",
     "text": [
      "Enter the first integer operand: 5\n",
      "Enter the second integer operand: 7\n",
      "First Operand: 5\n",
      "Second Operand: 7\n",
      "Summation: 12\n",
      "Difference: -2\n",
      "Multiplication: 35\n",
      "Division: 0.7142857142857143\n"
     ]
    }
   ],
   "source": [
    "op1 = int(input(\"Enter the first integer operand: \"))\n",
    "op2 = int(input(\"Enter the second integer operand: \"))\n",
    "print(\"First Operand:\", op1)\n",
    "print(\"Second Operand:\", op2)\n",
    "print(\"Summation:\", op1 + op2)\n",
    "print(\"Difference:\", op1 - op2)\n",
    "print(\"Multiplication:\", op1 * op2)\n",
    "print(\"Division:\", op1 / op2)"
   ]
  },
  {
   "cell_type": "markdown",
   "id": "a65b8ed4",
   "metadata": {},
   "source": [
    "<b>3.</b>Input/read principal amount(P), rate of interest(R) and Duraton in Number of years (N) from user. Compute Simple Interest."
   ]
  },
  {
   "cell_type": "code",
   "execution_count": 3,
   "id": "ed84f944",
   "metadata": {},
   "outputs": [
    {
     "name": "stdout",
     "output_type": "stream",
     "text": [
      "Enter the principal amount: 1000\n",
      "Enter the rate of interest: 12\n",
      "Enter the duration in number of years: 2\n",
      "Principal Amount: 1000.0\n",
      "Rate of Interest: 12.0\n",
      "Duration: 2.0\n",
      "Simple Interest: 240.0\n"
     ]
    }
   ],
   "source": [
    "principal_amount = float(input(\"Enter the principal amount: \"))\n",
    "rate_of_interest = float(input(\"Enter the rate of interest: \"))\n",
    "duration = float(input(\"Enter the duration in number of years: \"))\n",
    "print(\"Principal Amount:\", principal_amount)\n",
    "print(\"Rate of Interest:\", rate_of_interest)\n",
    "print(\"Duration:\", duration)\n",
    "print(\"Simple Interest:\", (principal_amount * duration * rate_of_interest) / 100)"
   ]
  },
  {
   "cell_type": "markdown",
   "id": "fab8f470",
   "metadata": {},
   "source": [
    "<b>4.</b>Compute compound interest in above program."
   ]
  },
  {
   "cell_type": "code",
   "execution_count": 4,
   "id": "439bbfb1",
   "metadata": {},
   "outputs": [
    {
     "name": "stdout",
     "output_type": "stream",
     "text": [
      "Compound Interest: 1254.4\n"
     ]
    }
   ],
   "source": [
    "print(\"Compound Interest:\", principal_amount * (1 + rate_of_interest / 100) ** duration)"
   ]
  },
  {
   "cell_type": "markdown",
   "id": "6539fcfc",
   "metadata": {},
   "source": [
    "<b>5.</b>Input radius of circle from user. Compute diameter, perimeter and area of circle."
   ]
  },
  {
   "cell_type": "code",
   "execution_count": 5,
   "id": "6b07a9eb",
   "metadata": {},
   "outputs": [
    {
     "name": "stdout",
     "output_type": "stream",
     "text": [
      "Enter the radius of circle: 5\n",
      "Radius: 5.0\n",
      "Diameter: 10.0\n",
      "Perimeter: 31.400000000000002\n",
      "Area: 78.5\n"
     ]
    }
   ],
   "source": [
    "radius = float(input(\"Enter the radius of circle: \"))\n",
    "print(\"Radius:\", radius)\n",
    "print(\"Diameter:\", 2 * radius)\n",
    "print(\"Perimeter:\", 2 * 3.14 * radius)\n",
    "print(\"Area:\", 3.14 * radius ** 2)"
   ]
  },
  {
   "cell_type": "markdown",
   "id": "b2e771f3",
   "metadata": {},
   "source": [
    "<b>6.</b>Input student details: rollno, name and marks of 4 subjects from user. Calculate total marks, percentage and grade. Print mark-sheet."
   ]
  },
  {
   "cell_type": "code",
   "execution_count": 6,
   "id": "88a41651",
   "metadata": {},
   "outputs": [
    {
     "name": "stdout",
     "output_type": "stream",
     "text": [
      "Enter the roll number: MA057\n",
      "Enter the name: Sutariya Savankumar\n",
      "Enter the marks of subject 1: 75\n",
      "Enter the marks of subject 2: 74\n",
      "Enter the marks of subject 3: 66\n",
      "Enter the marks of subject 4: 65\n",
      "Roll Number: MA057\n",
      "Name: Sutariya Savankumar\n",
      "Subject 1: 75.0\n",
      "Subject 2: 74.0\n",
      "Subject 3: 66.0\n",
      "Subject 4: 65.0\n",
      "Total Marks: 280.0\n",
      "Percentage: 70.0\n",
      "Grade: B+\n"
     ]
    }
   ],
   "source": [
    "rollno = input(\"Enter the roll number: \")\n",
    "name = input(\"Enter the name: \")\n",
    "sub1 = float(input(\"Enter the marks of subject 1: \"))\n",
    "sub2 = float(input(\"Enter the marks of subject 2: \"))\n",
    "sub3 = float(input(\"Enter the marks of subject 3: \"))\n",
    "sub4 = float(input(\"Enter the marks of subject 4: \"))\n",
    "total_marks = sub1 + sub2 + sub3 + sub4\n",
    "percentage = total_marks / 4\n",
    "print(\"Roll Number:\", rollno)\n",
    "print(\"Name:\", name)\n",
    "print(\"Subject 1:\", sub1)\n",
    "print(\"Subject 2:\", sub2)\n",
    "print(\"Subject 3:\", sub3)\n",
    "print(\"Subject 4:\", sub4)\n",
    "print(\"Total Marks:\", total_marks)\n",
    "print(\"Percentage:\", percentage)\n",
    "if percentage >= 90:\n",
    "    print(\"Grade: A+\")\n",
    "elif percentage >= 80:\n",
    "    print(\"Grade: A\")\n",
    "elif percentage >= 70:\n",
    "    print(\"Grade: B+\")\n",
    "elif percentage >= 60:\n",
    "    print(\"Grade: B\")\n",
    "elif percentage >= 50:\n",
    "    print(\"Grade: C+\")\n",
    "elif percentage >= 40:\n",
    "    print(\"Grade: C\")\n",
    "else:\n",
    "    print(\"Grade: F\")"
   ]
  },
  {
   "cell_type": "markdown",
   "id": "91daca95",
   "metadata": {},
   "source": [
    "<b>7.</b>Input employee details: empno, name, gender, basic salary from user. Calculate DA (110% of basic salary ), HRA (5% of basic salary) and total salary. Also calculate yearly gross salary which also \n",
    "includes bonus (50% of one basic salary)."
   ]
  },
  {
   "cell_type": "code",
   "execution_count": 7,
   "id": "5dee1c2c",
   "metadata": {},
   "outputs": [
    {
     "name": "stdout",
     "output_type": "stream",
     "text": [
      "Enter the employee number: 221\n",
      "Enter the employee name: Sutariya Savankumar\n",
      "Enter the employee gender: Male\n",
      "Enter the basic salary: 55000\n",
      "Employee Details:\n",
      "Employee Number: 221\n",
      "Name: Sutariya Savankumar\n",
      "Gender: Male\n",
      "Basic Salary: 55000.0\n",
      "DA: 5500.0\n",
      "HRA: 2750.0\n",
      "Total Salary: 63250.0\n",
      "Yearly Gross Salary (including bonus): 786500.0\n"
     ]
    }
   ],
   "source": [
    "empno = input(\"Enter the employee number: \")\n",
    "name = input(\"Enter the employee name: \")\n",
    "gender = input(\"Enter the employee gender: \")\n",
    "basic_salary = float(input(\"Enter the basic salary: \"))\n",
    "\n",
    "da = 0.1 * basic_salary\n",
    "\n",
    "hra = 0.05 * basic_salary\n",
    "\n",
    "total_salary = basic_salary + da + hra\n",
    "\n",
    "bonus = 0.5 * basic_salary\n",
    "yearly_gross_salary = total_salary * 12 + bonus\n",
    "print(\"Employee Details:\")\n",
    "print(\"Employee Number:\", empno)\n",
    "print(\"Name:\", name)\n",
    "print(\"Gender:\", gender)\n",
    "print(\"Basic Salary:\", basic_salary)\n",
    "print(\"DA:\", da)\n",
    "print(\"HRA:\", hra)\n",
    "print(\"Total Salary:\", total_salary)\n",
    "print(\"Yearly Gross Salary (including bonus):\", yearly_gross_salary)"
   ]
  },
  {
   "cell_type": "markdown",
   "id": "962e3f2b",
   "metadata": {},
   "source": [
    "<b>8.</b>Compute area and perimeter of a rectangle."
   ]
  },
  {
   "cell_type": "code",
   "execution_count": 8,
   "id": "b759b2ab",
   "metadata": {},
   "outputs": [
    {
     "name": "stdout",
     "output_type": "stream",
     "text": [
      "Enter the length of rectangle: 5\n",
      "Enter the breadth of rectangle: 7\n",
      "Length: 5.0\n",
      "Breadth: 7.0\n",
      "Area: 35.0\n",
      "Perimeter: 24.0\n"
     ]
    }
   ],
   "source": [
    "length = float(input(\"Enter the length of rectangle: \"))\n",
    "breadth = float(input(\"Enter the breadth of rectangle: \"))\n",
    "print(\"Length:\", length)\n",
    "print(\"Breadth:\", breadth)\n",
    "print(\"Area:\", length * breadth)\n",
    "print(\"Perimeter:\", 2 * (length + breadth))"
   ]
  },
  {
   "cell_type": "markdown",
   "id": "f86225a2",
   "metadata": {},
   "source": [
    "<b>9.</b>(i) Celcius to Fahrenheit. (ii) Fahrenheit to Celcius."
   ]
  },
  {
   "cell_type": "code",
   "execution_count": 9,
   "id": "963d63ab",
   "metadata": {},
   "outputs": [
    {
     "name": "stdout",
     "output_type": "stream",
     "text": [
      "Enter the temperature in Celcius: 38\n",
      "Temperature in Fahrenheit: 100.4\n",
      "Enter the temperature in Fahrenheit: 95\n",
      "Temperature in Celcius: 35.0\n"
     ]
    }
   ],
   "source": [
    "# (i) Celcius to Fahrenheit. (ii) Fahrenheit to Celcius.\n",
    "c = float(input(\"Enter the temperature in Celcius: \")) \n",
    "print(\"Temperature in Fahrenheit:\", (c * 9 / 5) + 32)\n",
    "f = float(input(\"Enter the temperature in Fahrenheit: \"))\n",
    "print(\"Temperature in Celcius:\", (f - 32) * 5 / 9)"
   ]
  },
  {
   "cell_type": "markdown",
   "id": "e5457ebd",
   "metadata": {},
   "source": [
    "<b>10.</b>(i) Show current date. (ii) Show current time. (iii) Show current date and time."
   ]
  },
  {
   "cell_type": "code",
   "execution_count": 10,
   "id": "658383d3",
   "metadata": {},
   "outputs": [
    {
     "name": "stdout",
     "output_type": "stream",
     "text": [
      "Current Date: 2023-07-09\n",
      "Current Time: 23:34:04.441809\n",
      "Current Date and Time: 2023-07-09 23:34:04.441809\n"
     ]
    }
   ],
   "source": [
    "import datetime\n",
    "print(\"Current Date:\", datetime.date.today())\n",
    "print(\"Current Time:\", datetime.datetime.now().time())\n",
    "print(\"Current Date and Time:\", datetime.datetime.now())"
   ]
  },
  {
   "cell_type": "markdown",
   "id": "ccfd0a99",
   "metadata": {},
   "source": [
    "<b>11.</b>Store your birthdate (in a valid date format) in a variable."
   ]
  },
  {
   "cell_type": "code",
   "execution_count": 5,
   "id": "8550b06f",
   "metadata": {},
   "outputs": [
    {
     "name": "stdout",
     "output_type": "stream",
     "text": [
      "Birthdate: 2002-05-07 | <class 'datetime.date'>\n"
     ]
    }
   ],
   "source": [
    "import datetime\n",
    "birthdate = datetime.date(2002, 5, 7)\n",
    "print(\"Birthdate:\", birthdate, \"|\",type(birthdate))"
   ]
  },
  {
   "cell_type": "code",
   "execution_count": null,
   "id": "5268be69",
   "metadata": {},
   "outputs": [],
   "source": []
  }
 ],
 "metadata": {
  "kernelspec": {
   "display_name": "Python 3 (ipykernel)",
   "language": "python",
   "name": "python3"
  },
  "language_info": {
   "codemirror_mode": {
    "name": "ipython",
    "version": 3
   },
   "file_extension": ".py",
   "mimetype": "text/x-python",
   "name": "python",
   "nbconvert_exporter": "python",
   "pygments_lexer": "ipython3",
   "version": "3.9.5"
  }
 },
 "nbformat": 4,
 "nbformat_minor": 5
}
