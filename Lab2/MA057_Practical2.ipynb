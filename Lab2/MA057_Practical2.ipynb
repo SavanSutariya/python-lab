{
 "cells": [
  {
   "cell_type": "markdown",
   "metadata": {},
   "source": [
    "### EXERCISES-2-a\n",
    "#### 1. Input two float operands from user. Apply arithmetic operators on them."
   ]
  },
  {
   "cell_type": "code",
   "execution_count": 1,
   "metadata": {},
   "outputs": [
    {
     "name": "stdout",
     "output_type": "stream",
     "text": [
      "Addition:  11\n",
      "Subtraction:  -1\n",
      "Multiplication:  30\n",
      "Division:  0.8333333333333334\n",
      "Modulus:  5\n",
      "Exponent:  15625\n",
      "Floor Division:  0\n"
     ]
    }
   ],
   "source": [
    "a,b = int(input(\"Enter first number: \")), int(input(\"Enter second number: \"))\n",
    "print(\"Addition: \", a+b)\n",
    "print(\"Subtraction: \", a-b)\n",
    "print(\"Multiplication: \", a*b)\n",
    "print(\"Division: \", a/b)\n",
    "print(\"Modulus: \", a%b)\n",
    "print(\"Exponent: \", a**b)\n",
    "print(\"Floor Division: \", a//b)"
   ]
  },
  {
   "cell_type": "markdown",
   "metadata": {},
   "source": [
    "#### 2. Input two string operands from user. Check behaviour of relational and logical operators on them. Write your observations."
   ]
  },
  {
   "cell_type": "code",
   "execution_count": 2,
   "metadata": {},
   "outputs": [
    {
     "name": "stdout",
     "output_type": "stream",
     "text": [
      "Relational\n",
      "a == b:  False\n",
      "a != b:  True\n",
      "a > b:  False\n",
      "a < b:  True\n",
      "a >= b:  False\n",
      "a <= b:  True\n",
      "Logical\n",
      "a and b:  Sutariya\n",
      "a or b:  Savan\n",
      "not a:  False\n",
      "not b:  False\n"
     ]
    }
   ],
   "source": [
    "a,b = input(\"Enter first string: \"), input(\"Enter second string: \")\n",
    "print(\"Relational\")\n",
    "print(\"a == b: \", a==b)\n",
    "print(\"a != b: \", a!=b)\n",
    "print(\"a > b: \", a>b)\n",
    "print(\"a < b: \", a<b)\n",
    "print(\"a >= b: \", a>=b)\n",
    "print(\"a <= b: \", a<=b)\n",
    "print(\"Logical\")\n",
    "print(\"a and b: \", a and b)\n",
    "print(\"a or b: \", a or b)\n",
    "print(\"not a: \", not a)\n",
    "print(\"not b: \", not b)"
   ]
  },
  {
   "cell_type": "markdown",
   "metadata": {},
   "source": [
    "#### 3. Input two int operands from user. Explain behviour of bitwise operators on them."
   ]
  },
  {
   "cell_type": "code",
   "execution_count": 4,
   "metadata": {},
   "outputs": [
    {
     "name": "stdout",
     "output_type": "stream",
     "text": [
      "a & b:  0\n",
      "a | b:  13\n",
      "a ^ b:  13\n",
      "~a:  -6\n",
      "a << b:  1280\n",
      "a >> b:  0\n"
     ]
    }
   ],
   "source": [
    "# bitwise operators\n",
    "a,b = int(input(\"Enter first number: \")), int(input(\"Enter second number: \"))\n",
    "print(\"a & b: \", a&b)\n",
    "print(\"a | b: \", a|b)\n",
    "print(\"a ^ b: \", a^b)\n",
    "print(\"~a: \", ~a)\n",
    "print(\"a << b: \", a<<b)\n",
    "print(\"a >> b: \", a>>b)"
   ]
  },
  {
   "cell_type": "markdown",
   "metadata": {},
   "source": [
    "### EXERCISES-2-b\n",
    "#### 1. Determine whether an integer entered by a user is odd or even."
   ]
  },
  {
   "cell_type": "code",
   "execution_count": 6,
   "metadata": {},
   "outputs": [
    {
     "name": "stdout",
     "output_type": "stream",
     "text": [
      "Even\n"
     ]
    }
   ],
   "source": [
    "# Determine whether a number is even or odd\n",
    "a = int(input(\"Enter a number: \"))\n",
    "print(\"Even\" if a%2==0 else \"Odd\")"
   ]
  },
  {
   "cell_type": "markdown",
   "metadata": {},
   "source": [
    "#### 2. Input student details: rollno, name and marks of 3 subjects from user. Calculate total marks, percentage and grade. Print mark-sheet. Determine pass or fail."
   ]
  },
  {
   "cell_type": "code",
   "execution_count": 7,
   "metadata": {},
   "outputs": [
    {
     "name": "stdout",
     "output_type": "stream",
     "text": [
      "Rollno:  MA057\n",
      "Name:  Savan\n",
      "Total marks:  253\n",
      "Percentage:  84.33333333333333\n",
      "Grade:  B\n",
      "Pass\n"
     ]
    }
   ],
   "source": [
    "# Input student details: rollno, name and marks of 3 subjects from user. Calculate total marks, percentage and grade. Print mark-sheet. Determine pass or fail.\n",
    "rollno, name = input(\"Enter rollno: \"), input(\"Enter name: \")\n",
    "m1,m2,m3 = int(input(\"Enter marks of subject 1: \")), int(input(\"Enter marks of subject 2: \")), int(input(\"Enter marks of subject 3: \"))\n",
    "total = m1+m2+m3\n",
    "percentage = total/3\n",
    "grade = \"A\" if percentage>=90 else \"B\" if percentage>=80 else \"C\" if percentage>=70 else \"D\" if percentage>=60 else \"E\" if percentage>=50 else \"F\"\n",
    "print(\"Rollno: \", rollno)\n",
    "print(\"Name: \", name)\n",
    "print(\"Total marks: \", total)\n",
    "print(\"Percentage: \", percentage)\n",
    "print(\"Grade: \", grade)\n",
    "print(\"Pass\" if grade!=\"F\" else \"Fail\")"
   ]
  },
  {
   "cell_type": "markdown",
   "metadata": {},
   "source": [
    "#### 3. Input employee details: empno, name, gender, basic salary from user. Calculate DA (Of basic salary to 80% male, 70% to female ), HRA (Of basic salary 15% to female, 10% to male) and net salary. Also calculate gross (yearly) salary which also includes bonus (Of one basic salary 50% to male, 55% to female)."
   ]
  },
  {
   "cell_type": "code",
   "execution_count": 9,
   "metadata": {},
   "outputs": [
    {
     "name": "stdout",
     "output_type": "stream",
     "text": [
      "Employee Number: 300\n",
      "Employee Name: Savan\n",
      "Gender: M\n",
      "Basic Salary: 50000.0\n",
      "DA: 40000.0\n",
      "HRA: 5000.0\n",
      "Net Salary: 95000.0\n",
      "Gross Salary: 1165000.0\n"
     ]
    }
   ],
   "source": [
    "empno = int(input(\"Enter employee number: \"))\n",
    "name = input(\"Enter employee name: \")\n",
    "gender = input(\"Enter employee gender (M/F): \")\n",
    "basic_salary = float(input(\"Enter basic salary: \"))\n",
    "\n",
    "if gender == 'M':\n",
    "    DA = basic_salary * 0.8\n",
    "    HRA = basic_salary * 0.1\n",
    "    bonus = basic_salary * 0.5\n",
    "else:\n",
    "    DA = basic_salary * 0.7\n",
    "    HRA = basic_salary * 0.15\n",
    "    bonus = basic_salary * 0.55\n",
    "\n",
    "net_salary = basic_salary + DA + HRA\n",
    "gross_salary = (net_salary * 12) + bonus\n",
    "\n",
    "print(f\"Employee Number: {empno}\")\n",
    "print(f\"Employee Name: {name}\")\n",
    "print(f\"Gender: {gender}\")\n",
    "print(f\"Basic Salary: {basic_salary}\")\n",
    "print(f\"DA: {DA}\")\n",
    "print(f\"HRA: {HRA}\")\n",
    "print(f\"Net Salary: {net_salary}\")\n",
    "print(f\"Gross Salary: {gross_salary}\")"
   ]
  },
  {
   "cell_type": "markdown",
   "metadata": {},
   "source": [
    "#### 4. Check whether your birthdate has already gone or it is about to come in the current year."
   ]
  },
  {
   "cell_type": "code",
   "execution_count": 10,
   "metadata": {},
   "outputs": [
    {
     "name": "stdout",
     "output_type": "stream",
     "text": [
      "Today's date: 2023-07-15\n",
      "Birthdate: 2002-05-07\n",
      "Birthdate has passed\n"
     ]
    }
   ],
   "source": [
    "# Check weather a your birthdate has already passed or not\n",
    "from datetime import date\n",
    "today = date.today()\n",
    "print(\"Today's date:\", today)\n",
    "year, month, day = int(input(\"Enter year: \")), int(input(\"Enter month: \")), int(input(\"Enter day: \"))\n",
    "birthdate = date(year, month, day)\n",
    "print(\"Birthdate:\", birthdate)\n",
    "if birthdate < today:\n",
    "    print(\"Birthdate has passed\")\n",
    "else:\n",
    "    print(\"Birthdate has not passed\")"
   ]
  },
  {
   "cell_type": "markdown",
   "metadata": {},
   "source": [
    "#### 5. Determine whether current year is leap year or not."
   ]
  },
  {
   "cell_type": "code",
   "execution_count": 1,
   "metadata": {},
   "outputs": [
    {
     "name": "stdout",
     "output_type": "stream",
     "text": [
      "Enter year: 2023\n",
      "Not a leap year\n"
     ]
    }
   ],
   "source": [
    "# Determine whether current year is leap year or not.\n",
    "year = int(input(\"Enter year: \"))\n",
    "if year%4==0 and year%100!=0 or year%400==0:\n",
    "    print(\"Leap year\")\n",
    "else:\n",
    "    print(\"Not a leap year\")"
   ]
  },
  {
   "cell_type": "markdown",
   "metadata": {},
   "source": [
    "### EXERCISES-2-c\n",
    "#### 1. Print multiplication table of a number entered by user."
   ]
  },
  {
   "cell_type": "code",
   "execution_count": 13,
   "metadata": {},
   "outputs": [
    {
     "name": "stdout",
     "output_type": "stream",
     "text": [
      "5 x 1 = 5\n",
      "5 x 2 = 10\n",
      "5 x 3 = 15\n",
      "5 x 4 = 20\n",
      "5 x 5 = 25\n",
      "5 x 6 = 30\n",
      "5 x 7 = 35\n",
      "5 x 8 = 40\n",
      "5 x 9 = 45\n",
      "5 x 10 = 50\n"
     ]
    }
   ],
   "source": [
    "# Multiplication table of a number\n",
    "n = int(input(\"Enter a number: \"))\n",
    "for i in range(1,11):\n",
    "    print(f\"{n} x {i} = {n*i}\") "
   ]
  },
  {
   "cell_type": "markdown",
   "metadata": {},
   "source": [
    "#### 2. Compute factorial of a number given by user."
   ]
  },
  {
   "cell_type": "code",
   "execution_count": 18,
   "metadata": {},
   "outputs": [
    {
     "name": "stdout",
     "output_type": "stream",
     "text": [
      "Factorial of 6 is 720\n"
     ]
    }
   ],
   "source": [
    "def fact(n):\n",
    "    if n==2:\n",
    "        return 2\n",
    "    return n*fact(n-1)\n",
    "n = int(input(\"Enter a number: \"))\n",
    "print(f\"Factorial of {n} is {fact(n)}\")"
   ]
  },
  {
   "cell_type": "markdown",
   "metadata": {},
   "source": [
    "#### 3. Determine whether a number entered by user is prime or not."
   ]
  },
  {
   "cell_type": "code",
   "execution_count": 2,
   "metadata": {},
   "outputs": [
    {
     "name": "stdout",
     "output_type": "stream",
     "text": [
      "Enter a number: 5\n",
      "Prime number\n"
     ]
    }
   ],
   "source": [
    "n = int(input(\"Enter a number: \"))\n",
    "for i in range(2,n//2):\n",
    "    if n%i==0:\n",
    "        print(\"Not a prime number\")\n",
    "        break\n",
    "else:\n",
    "    print(\"Prime number\")"
   ]
  },
  {
   "cell_type": "markdown",
   "metadata": {},
   "source": [
    "#### 4. Determine whether a string entered by user is palindrome or not."
   ]
  },
  {
   "cell_type": "code",
   "execution_count": 3,
   "metadata": {},
   "outputs": [
    {
     "name": "stdout",
     "output_type": "stream",
     "text": [
      "Enter a string: ABCBA\n",
      "Palindrome\n"
     ]
    }
   ],
   "source": [
    "s = input(\"Enter a string: \")\n",
    "if s == s[::-1]:\n",
    "    print(\"Palindrome\")\n",
    "else:\n",
    "    print(\"Not a palindrome\")"
   ]
  },
  {
   "cell_type": "markdown",
   "metadata": {},
   "source": [
    "### EXERCISES-2-d\n",
    "Create Python programs for the following (Use for loop if required):\n",
    "<ol>\n",
    "    <li>Find sum of only integer list elements.\n",
    "    <li>Find length of a string given by user.\n",
    "    <li>Determine whether a number entered by user is prime or not.\n",
    "    <li>Determine whether a string entered by user is palindrome or not.\n",
    "    <li>Print pattern:<BR>\n",
    "        *<BR>\n",
    "        * *<BR>\n",
    "        * * *<BR>\n",
    "        * * * *<BR>\n",
    "</ol>"
   ]
  },
  {
   "cell_type": "code",
   "execution_count": 4,
   "metadata": {},
   "outputs": [
    {
     "name": "stdout",
     "output_type": "stream",
     "text": [
      "21\n"
     ]
    }
   ],
   "source": [
    "# Find sum of only integers in a list\n",
    "l = [11,\"12\",10,\"Hello\"]\n",
    "sum = 0\n",
    "for i in l:\n",
    "    if type(i)==int:\n",
    "        sum += i\n",
    "print(sum)"
   ]
  },
  {
   "cell_type": "markdown",
   "metadata": {},
   "source": [
    "#### 2. Find length of a string given by user."
   ]
  },
  {
   "cell_type": "code",
   "execution_count": 5,
   "metadata": {},
   "outputs": [
    {
     "name": "stdout",
     "output_type": "stream",
     "text": [
      "Enter a string: Savan\n",
      "5\n"
     ]
    }
   ],
   "source": [
    "# Find length of a string given by user.\n",
    "s = input(\"Enter a string: \")\n",
    "print(len(s))"
   ]
  },
  {
   "cell_type": "markdown",
   "metadata": {},
   "source": [
    "#### 3. Determine whether a number entered by user is prime or not."
   ]
  },
  {
   "cell_type": "code",
   "execution_count": 6,
   "metadata": {},
   "outputs": [
    {
     "name": "stdout",
     "output_type": "stream",
     "text": [
      "Enter a number: 5\n",
      "Prime number\n"
     ]
    }
   ],
   "source": [
    "# Determine whether a number entered by user is prime or not.\n",
    "n = int(input(\"Enter a number: \"))\n",
    "for i in range(2,n//2):\n",
    "    if n%i==0:\n",
    "        print(\"Not a prime number\")\n",
    "        break\n",
    "else:\n",
    "    print(\"Prime number\")"
   ]
  },
  {
   "cell_type": "markdown",
   "metadata": {},
   "source": [
    "#### 4. Determine whether a string entered by user is palindrome or not."
   ]
  },
  {
   "cell_type": "code",
   "execution_count": 7,
   "metadata": {},
   "outputs": [
    {
     "name": "stdout",
     "output_type": "stream",
     "text": [
      "Enter a string: CAR\n",
      "Not a palindrome\n"
     ]
    }
   ],
   "source": [
    "# Determine whether a string entered by user is palindrome or not.\n",
    "s = input(\"Enter a string: \")\n",
    "if s == s[::-1]:\n",
    "    print(\"Palindrome\")\n",
    "else:\n",
    "    print(\"Not a palindrome\")"
   ]
  },
  {
   "cell_type": "markdown",
   "metadata": {},
   "source": [
    "#### 5. Print pattern:\n",
    "        *\n",
    "        * *\n",
    "        * * *\n",
    "        * * * *"
   ]
  },
  {
   "cell_type": "code",
   "execution_count": 35,
   "metadata": {},
   "outputs": [
    {
     "name": "stdout",
     "output_type": "stream",
     "text": [
      "* \n",
      "* * \n",
      "* * * \n",
      "* * * * \n",
      "* * * * * \n"
     ]
    }
   ],
   "source": [
    "# Pattern\n",
    "n = int(input(\"Enter a number: \"))\n",
    "for i in range(1,n+1):\n",
    "    for j in range(1,i+1):\n",
    "        print(\"*\", end=\" \")\n",
    "    print()\n"
   ]
  }
 ],
 "metadata": {
  "kernelspec": {
   "display_name": "Python 3 (ipykernel)",
   "language": "python",
   "name": "python3"
  },
  "language_info": {
   "codemirror_mode": {
    "name": "ipython",
    "version": 3
   },
   "file_extension": ".py",
   "mimetype": "text/x-python",
   "name": "python",
   "nbconvert_exporter": "python",
   "pygments_lexer": "ipython3",
   "version": "3.9.5"
  }
 },
 "nbformat": 4,
 "nbformat_minor": 2
}
