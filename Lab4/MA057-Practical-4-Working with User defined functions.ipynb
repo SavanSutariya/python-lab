{
 "cells": [
  {
   "cell_type": "markdown",
   "id": "9c4115ae",
   "metadata": {},
   "source": [
    "# Working with user defined functions\n",
    "### 1. Create a function calcFactorial. It should accept one integer parameter. If the parameter is integer, the function should return factorial of the parameter, else the function should return -9999. Show usage of the function."
   ]
  },
  {
   "cell_type": "code",
   "execution_count": 10,
   "id": "c9cf52dd",
   "metadata": {},
   "outputs": [
    {
     "name": "stdout",
     "output_type": "stream",
     "text": [
      "120\n"
     ]
    }
   ],
   "source": [
    "def calcFactorial(n):\n",
    "    if type(n) != int:\n",
    "        return -9999\n",
    "    fact = n\n",
    "    for i in range(1,n):\n",
    "        fact = fact * i\n",
    "    return fact\n",
    "print(calcFactorial(5))"
   ]
  },
  {
   "cell_type": "markdown",
   "id": "c6af768a",
   "metadata": {},
   "source": [
    "### 2. Create a function checkPrime. It should accept one integer parameter. If the parameter is not integer, the function should return -9999. The function should return True if the parameter is a prime number, else the function should return False. Show usage of the function."
   ]
  },
  {
   "cell_type": "code",
   "execution_count": 21,
   "id": "e4e50715",
   "metadata": {},
   "outputs": [
    {
     "data": {
      "text/plain": [
       "False"
      ]
     },
     "execution_count": 21,
     "metadata": {},
     "output_type": "execute_result"
    }
   ],
   "source": [
    "def isPrime(n):\n",
    "    if type(n) != int:\n",
    "        return -9999\n",
    "    if n>1:\n",
    "        for i in range(1,n//2):\n",
    "            if n%2 == 0:\n",
    "                return False\n",
    "        return True\n",
    "    else:\n",
    "        return False\n",
    "isPrime(4)"
   ]
  },
  {
   "cell_type": "markdown",
   "id": "bd84bb50",
   "metadata": {},
   "source": [
    "### 3. Create a function countVowelsFrequencies. The function should accept one string parameter and return frequency of each vowel present in the parameter."
   ]
  },
  {
   "cell_type": "code",
   "execution_count": 25,
   "id": "db6b0535",
   "metadata": {},
   "outputs": [
    {
     "name": "stdout",
     "output_type": "stream",
     "text": [
      "{'A': 0, 'a': 1, 'E': 0, 'e': 2, 'I': 0, 'i': 0, 'O': 0, 'o': 3, 'U': 0, 'u': 1}\n"
     ]
    }
   ],
   "source": [
    "def countVowelsFrequencies(sen):\n",
    "    d = {}\n",
    "    vovels = 'AaEeIiOoUu'\n",
    "    for i  in vovels:\n",
    "        d[i] = 0\n",
    "    for i in sen:\n",
    "        if i in vovels:\n",
    "            d[i] += 1\n",
    "    return d\n",
    "print(countVowelsFrequencies(\"Hello How are you\"))"
   ]
  },
  {
   "cell_type": "markdown",
   "id": "2eb8ebec",
   "metadata": {},
   "source": [
    "### 4. Create a function factorials which accepts a list of integers. The function should compute factorial for all list elements (use calcFactorial() from above sr# 1), and return all factorial values."
   ]
  },
  {
   "cell_type": "code",
   "execution_count": 30,
   "id": "22c911fe",
   "metadata": {},
   "outputs": [
    {
     "name": "stdout",
     "output_type": "stream",
     "text": [
      "[24, 120, 720]\n"
     ]
    }
   ],
   "source": [
    "def factorials(lst):\n",
    "    for i in lst:\n",
    "        yield calcFactorial(i)\n",
    "print(list(factorials([4,5,6])))"
   ]
  },
  {
   "cell_type": "markdown",
   "id": "55af7d86",
   "metadata": {},
   "source": [
    "### 5. Create a function calcSimpleInterest() to compute simple interest of three paramters: principal_amount, duration, rate_of_interest. Demonstrate usage of default arguments in function call."
   ]
  },
  {
   "cell_type": "code",
   "execution_count": 43,
   "id": "67333176",
   "metadata": {},
   "outputs": [
    {
     "name": "stdout",
     "output_type": "stream",
     "text": [
      "200.0\n"
     ]
    }
   ],
   "source": [
    "def calcSimpleInterest(p,d,r=5):\n",
    "    return (p*d*r)/100\n",
    "print(calcSimpleInterest(1000,4))"
   ]
  },
  {
   "cell_type": "markdown",
   "id": "b8261031",
   "metadata": {},
   "source": [
    "### 6. Create a function printMultiplicationTable(). The function should receive an integer parameter and print multiplication table of the same."
   ]
  },
  {
   "cell_type": "code",
   "execution_count": 44,
   "id": "0b48a8a1",
   "metadata": {},
   "outputs": [
    {
     "name": "stdout",
     "output_type": "stream",
     "text": [
      "5 x 1 = 5\n",
      "5 x 2 = 10\n",
      "5 x 3 = 15\n",
      "5 x 4 = 20\n",
      "5 x 5 = 25\n",
      "5 x 6 = 30\n",
      "5 x 7 = 35\n",
      "5 x 8 = 40\n",
      "5 x 9 = 45\n",
      "5 x 10 = 50\n"
     ]
    }
   ],
   "source": [
    "def printMultiplicationTable(n):\n",
    "    for i in range(1,11):\n",
    "        print(n,'x',i,'=',n*i)\n",
    "printMultiplicationTable(5)"
   ]
  },
  {
   "cell_type": "markdown",
   "id": "95a33845",
   "metadata": {},
   "source": [
    "### 7. Create a function toUpper() to convert a string parameter in upper case and return the same. Do not use inbuilt function."
   ]
  },
  {
   "cell_type": "code",
   "execution_count": 76,
   "id": "447e8354",
   "metadata": {},
   "outputs": [
    {
     "data": {
      "text/plain": [
       "'HELLO'"
      ]
     },
     "execution_count": 76,
     "metadata": {},
     "output_type": "execute_result"
    }
   ],
   "source": [
    "def toUpper(s):\n",
    "    s2 = []\n",
    "    for i in s:\n",
    "        if i.isalpha() and ord(i)>=97:\n",
    "            s2.append(chr(ord(i)-32))\n",
    "        else:\n",
    "            s2.append(i)\n",
    "    return ''.join(s2)\n",
    "toUpper(\"Hello\")"
   ]
  },
  {
   "cell_type": "markdown",
   "id": "02ea34f5",
   "metadata": {},
   "source": [
    "### 8. Create a function removeWhiteSpaceFromString() to remove white space from a string parameter."
   ]
  },
  {
   "cell_type": "code",
   "execution_count": 88,
   "id": "8e5d8863",
   "metadata": {},
   "outputs": [
    {
     "name": "stdout",
     "output_type": "stream",
     "text": [
      "HelloWorld\n"
     ]
    }
   ],
   "source": [
    "def removeWhiteSpaceFromString(st):\n",
    "    return st.replace(' ','')\n",
    "print(removeWhiteSpaceFromString(\" Hello World\"))"
   ]
  },
  {
   "cell_type": "markdown",
   "id": "aa3ed6c0",
   "metadata": {},
   "source": [
    "### 9. Create a function reverseString() to reverse a string parameter. Do not use inbuilt function."
   ]
  },
  {
   "cell_type": "code",
   "execution_count": 89,
   "id": "3411cee0",
   "metadata": {},
   "outputs": [
    {
     "name": "stdout",
     "output_type": "stream",
     "text": [
      "olleH\n"
     ]
    }
   ],
   "source": [
    "def reverseString(st):\n",
    "    return st[::-1]\n",
    "print(reverseString(\"Hello\"))"
   ]
  },
  {
   "cell_type": "markdown",
   "id": "f4be2843",
   "metadata": {},
   "source": [
    "### 10. Create a function checkSquare(), which accepts lengths of four sides of a rectangle; and checks if rectangle is square or not."
   ]
  },
  {
   "cell_type": "code",
   "execution_count": 96,
   "id": "cd5c3248",
   "metadata": {},
   "outputs": [
    {
     "name": "stdout",
     "output_type": "stream",
     "text": [
      "is square\n"
     ]
    }
   ],
   "source": [
    "def checkSquare(s1,s2,s3,s4):\n",
    "    return s1==s2==s3==s4\n",
    "print(\"is square\" if checkSquare(5,5,5,5) else \"Not square\")"
   ]
  }
 ],
 "metadata": {
  "kernelspec": {
   "display_name": "Python 3 (ipykernel)",
   "language": "python",
   "name": "python3"
  },
  "language_info": {
   "codemirror_mode": {
    "name": "ipython",
    "version": 3
   },
   "file_extension": ".py",
   "mimetype": "text/x-python",
   "name": "python",
   "nbconvert_exporter": "python",
   "pygments_lexer": "ipython3",
   "version": "3.9.5"
  }
 },
 "nbformat": 4,
 "nbformat_minor": 5
}
