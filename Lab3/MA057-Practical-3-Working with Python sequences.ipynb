{
 "cells": [
  {
   "cell_type": "markdown",
   "id": "433add28",
   "metadata": {},
   "source": [
    "# Working with Python Sequences\n",
    "## a.\n",
    "### 1. Remove duplicate list items."
   ]
  },
  {
   "cell_type": "code",
   "execution_count": 1,
   "id": "cba032aa",
   "metadata": {},
   "outputs": [
    {
     "name": "stdout",
     "output_type": "stream",
     "text": [
      "[8, 4, 6, 7]\n"
     ]
    }
   ],
   "source": [
    "lst = [4,6,7,8,8,7]\n",
    "lst = list(set(lst))\n",
    "print(lst)"
   ]
  },
  {
   "cell_type": "markdown",
   "id": "047cd322",
   "metadata": {},
   "source": [
    "### 2. Store reverse of each list member in another list at same position."
   ]
  },
  {
   "cell_type": "code",
   "execution_count": 4,
   "id": "3c76ff7d",
   "metadata": {},
   "outputs": [
    {
     "name": "stdout",
     "output_type": "stream",
     "text": [
      "['olleH', 'siht', 'si', 'a', 'gnirts']\n"
     ]
    }
   ],
   "source": [
    "lst1 = \"Hello this is a string\".split()\n",
    "lst2 = [i[::-1] for i in lst1]\n",
    "print(lst2)"
   ]
  },
  {
   "cell_type": "markdown",
   "id": "1a0a41c7",
   "metadata": {},
   "source": [
    "### 3. Take a sentence as input from user. Break it into words, store words in a list. Sort list according to length of string members."
   ]
  },
  {
   "cell_type": "code",
   "execution_count": 6,
   "id": "fbd235ea",
   "metadata": {},
   "outputs": [
    {
     "name": "stdout",
     "output_type": "stream",
     "text": [
      "Hello this is a sentence\n",
      "['a', 'is', 'this', 'Hello', 'sentence']\n"
     ]
    }
   ],
   "source": [
    "sen = input()\n",
    "lst = sen.split()\n",
    "lst.sort(key=len)\n",
    "print(lst)"
   ]
  },
  {
   "cell_type": "markdown",
   "id": "fba02fd3",
   "metadata": {},
   "source": [
    "### 4. Create a list which contains integers from -100 to 1 as list items."
   ]
  },
  {
   "cell_type": "code",
   "execution_count": 9,
   "id": "d5abbd27",
   "metadata": {},
   "outputs": [
    {
     "name": "stdout",
     "output_type": "stream",
     "text": [
      "[-100, -99, -98, -97, -96, -95, -94, -93, -92, -91, -90, -89, -88, -87, -86, -85, -84, -83, -82, -81, -80, -79, -78, -77, -76, -75, -74, -73, -72, -71, -70, -69, -68, -67, -66, -65, -64, -63, -62, -61, -60, -59, -58, -57, -56, -55, -54, -53, -52, -51, -50, -49, -48, -47, -46, -45, -44, -43, -42, -41, -40, -39, -38, -37, -36, -35, -34, -33, -32, -31, -30, -29, -28, -27, -26, -25, -24, -23, -22, -21, -20, -19, -18, -17, -16, -15, -14, -13, -12, -11, -10, -9, -8, -7, -6, -5, -4, -3, -2, -1, 0, 1]\n"
     ]
    }
   ],
   "source": [
    "lst = list(range(-100,2))\n",
    "print(lst)"
   ]
  },
  {
   "cell_type": "markdown",
   "id": "a056b009",
   "metadata": {},
   "source": [
    "### 5. Create a list which contains all even integers between 1 and 10 as list items."
   ]
  },
  {
   "cell_type": "code",
   "execution_count": 11,
   "id": "89273645",
   "metadata": {},
   "outputs": [
    {
     "data": {
      "text/plain": [
       "[2, 4, 6, 8]"
      ]
     },
     "execution_count": 11,
     "metadata": {},
     "output_type": "execute_result"
    }
   ],
   "source": [
    "lst = list(range(2,10,2))\n",
    "print(lst)"
   ]
  },
  {
   "cell_type": "markdown",
   "id": "b129a2a9",
   "metadata": {},
   "source": [
    "### 6. Create a list which contains all consonent-alphabets between 'A' and 'Z' as list items."
   ]
  },
  {
   "cell_type": "code",
   "execution_count": 41,
   "id": "1f5dd686",
   "metadata": {},
   "outputs": [
    {
     "name": "stdout",
     "output_type": "stream",
     "text": [
      "['B', 'C', 'D', 'F', 'G', 'H', 'J', 'K', 'L', 'M', 'N', 'P', 'Q', 'R', 'S', 'T', 'V', 'W', 'X', 'Y']\n"
     ]
    }
   ],
   "source": [
    "vovels = 'A E I O U'.split()\n",
    "cons = []\n",
    "for i in range(ord('A'),ord('Z')):\n",
    "    if chr(i) not in vovels:\n",
    "        cons.append(chr(i))\n",
    "print(cons)"
   ]
  },
  {
   "cell_type": "markdown",
   "id": "9d17ccdd",
   "metadata": {},
   "source": [
    "## b.\n",
    "### 1. Store 5 different birthdates into a tuple. Print birthdates in the order of from elder to younger (i.e.Sort the tuple in descending order of dates)."
   ]
  },
  {
   "cell_type": "code",
   "execution_count": 16,
   "id": "5ade4044",
   "metadata": {},
   "outputs": [
    {
     "name": "stdout",
     "output_type": "stream",
     "text": [
      "[(1985, 6, 15), (1991, 9, 3), (1997, 3, 12), (1999, 1, 8), (2002, 11, 23)]\n"
     ]
    }
   ],
   "source": [
    "birthdate_tuples = ((1997, 3, 12), (2002, 11, 23), (1985, 6, 15), (1999, 1, 8), (1991, 9, 3))\n",
    "sorted_dates = sorted(birthdate_tuples,key=lambda t:t[0])\n",
    "print(sorted_dates)"
   ]
  },
  {
   "cell_type": "markdown",
   "id": "baef1c32",
   "metadata": {},
   "source": [
    "### 2. Create two tuples with some elements. Store only common elements from both the tuples into a third tuple."
   ]
  },
  {
   "cell_type": "code",
   "execution_count": 25,
   "id": "6263cd3f",
   "metadata": {},
   "outputs": [
    {
     "name": "stdout",
     "output_type": "stream",
     "text": [
      "{8, 4}\n"
     ]
    }
   ],
   "source": [
    "tpl1 = (4,6,8,10)\n",
    "tpl2 = (4,8,12,16)\n",
    "s = set(tpl1).intersection(set(tpl2))\n",
    "print(s)"
   ]
  },
  {
   "cell_type": "markdown",
   "id": "fcdfaa86",
   "metadata": {},
   "source": [
    "### 3. Reverse a string without help of inbuilt function (OR Reverse a string using only one command/statement). Store answer in another string."
   ]
  },
  {
   "cell_type": "code",
   "execution_count": 27,
   "id": "bda35512",
   "metadata": {},
   "outputs": [
    {
     "name": "stdout",
     "output_type": "stream",
     "text": [
      "dlrow olleH\n"
     ]
    }
   ],
   "source": [
    "str1 = \"Hello world\"\n",
    "str2 = str1[::-1]\n",
    "print(str2)"
   ]
  },
  {
   "cell_type": "markdown",
   "id": "cd0281e1",
   "metadata": {},
   "source": [
    "## c.\n",
    "### 1. Explain usage of items() method of dictionary.\n",
    "- items() => used to return the list of tuples with all dictionary keys with values."
   ]
  },
  {
   "cell_type": "code",
   "execution_count": 34,
   "id": "ab7e9af9",
   "metadata": {},
   "outputs": [
    {
     "name": "stdout",
     "output_type": "stream",
     "text": [
      "dict_items([('name', 'savan'), ('rollno', 'MA057')])\n"
     ]
    }
   ],
   "source": [
    "d = {'name':'savan','rollno':'MA057'}\n",
    "print(d.items())"
   ]
  },
  {
   "cell_type": "markdown",
   "id": "2f8a73f5",
   "metadata": {},
   "source": [
    "### 2. Explain usage of get() & pop() methods of dictionary.\n",
    "- get() => returns the value of the item with the specified key.\n",
    "- pop() => removes the specified item from the dictionary."
   ]
  },
  {
   "cell_type": "code",
   "execution_count": 35,
   "id": "9d5b8b69",
   "metadata": {},
   "outputs": [
    {
     "name": "stdout",
     "output_type": "stream",
     "text": [
      "savan\n",
      "savan\n"
     ]
    },
    {
     "ename": "KeyError",
     "evalue": "'name'",
     "output_type": "error",
     "traceback": [
      "\u001b[1;31m---------------------------------------------------------------------------\u001b[0m",
      "\u001b[1;31mKeyError\u001b[0m                                  Traceback (most recent call last)",
      "Cell \u001b[1;32mIn[35], line 3\u001b[0m\n\u001b[0;32m      1\u001b[0m \u001b[38;5;28mprint\u001b[39m(d\u001b[38;5;241m.\u001b[39mget(\u001b[38;5;124m'\u001b[39m\u001b[38;5;124mname\u001b[39m\u001b[38;5;124m'\u001b[39m))\n\u001b[0;32m      2\u001b[0m \u001b[38;5;28mprint\u001b[39m(d\u001b[38;5;241m.\u001b[39mpop(\u001b[38;5;124m'\u001b[39m\u001b[38;5;124mname\u001b[39m\u001b[38;5;124m'\u001b[39m))\n\u001b[1;32m----> 3\u001b[0m \u001b[38;5;28mprint\u001b[39m(\u001b[43md\u001b[49m\u001b[43m[\u001b[49m\u001b[38;5;124;43m'\u001b[39;49m\u001b[38;5;124;43mname\u001b[39;49m\u001b[38;5;124;43m'\u001b[39;49m\u001b[43m]\u001b[49m)\n",
      "\u001b[1;31mKeyError\u001b[0m: 'name'"
     ]
    }
   ],
   "source": [
    "print(d.get('name'))\n",
    "print(d.pop('name'))\n",
    "print(d['name'])"
   ]
  },
  {
   "cell_type": "markdown",
   "id": "441e65e5",
   "metadata": {},
   "source": [
    "### 3. Explain usage of popitem() & update() methods of dictionary.\n",
    "- popitem() => removes the item that was last inserted into the dictionary.\n",
    "- update() => updates the dictionary with the elements from another dictionary object or from an iterable of key/value pairs."
   ]
  },
  {
   "cell_type": "code",
   "execution_count": 39,
   "id": "93626f22",
   "metadata": {},
   "outputs": [
    {
     "name": "stdout",
     "output_type": "stream",
     "text": [
      "('c', 3)\n",
      "{'a': 5, 'b': 2, 'd': 6}\n"
     ]
    }
   ],
   "source": [
    "d = {'a':1,'b':2,'c':3}\n",
    "print(d.popitem())\n",
    "d2 = {'a':5,'d':6}\n",
    "d.update(d2)\n",
    "print(d)"
   ]
  },
  {
   "cell_type": "markdown",
   "id": "a6bb9104",
   "metadata": {},
   "source": [
    "### 4. Count frequency of each vowel in a sentence."
   ]
  },
  {
   "cell_type": "code",
   "execution_count": 43,
   "id": "fc53f851",
   "metadata": {},
   "outputs": [
    {
     "name": "stdout",
     "output_type": "stream",
     "text": [
      "{'A': 0, 'a': 1, 'E': 0, 'e': 3, 'I': 0, 'i': 2, 'O': 0, 'o': 0, 'U': 0, 'u': 0}\n"
     ]
    }
   ],
   "source": [
    "sen = \"This is a sentence\"\n",
    "d = {}\n",
    "vovels = 'AaEeIiOoUu'\n",
    "for i  in vovels:\n",
    "    d[i] = 0\n",
    "for i in sen:\n",
    "    if i in vovels:\n",
    "        d[i] += 1\n",
    "print(d)"
   ]
  }
 ],
 "metadata": {
  "kernelspec": {
   "display_name": "Python 3 (ipykernel)",
   "language": "python",
   "name": "python3"
  },
  "language_info": {
   "codemirror_mode": {
    "name": "ipython",
    "version": 3
   },
   "file_extension": ".py",
   "mimetype": "text/x-python",
   "name": "python",
   "nbconvert_exporter": "python",
   "pygments_lexer": "ipython3",
   "version": "3.9.5"
  }
 },
 "nbformat": 4,
 "nbformat_minor": 5
}
